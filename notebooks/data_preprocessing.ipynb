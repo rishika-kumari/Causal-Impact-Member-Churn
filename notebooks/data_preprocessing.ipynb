{
 "cells": [
  {
   "cell_type": "code",
   "execution_count": 5,
   "id": "04c03aba",
   "metadata": {},
   "outputs": [
    {
     "name": "stdout",
     "output_type": "stream",
     "text": [
      "Requirement already satisfied: openpyxl in /Library/Frameworks/Python.framework/Versions/3.11/lib/python3.11/site-packages (3.1.5)\n",
      "Requirement already satisfied: et-xmlfile in /Library/Frameworks/Python.framework/Versions/3.11/lib/python3.11/site-packages (from openpyxl) (2.0.0)\n"
     ]
    }
   ],
   "source": [
    "import sys\n",
    "!{sys.executable} -m pip install openpyxl"
   ]
  },
  {
   "cell_type": "code",
   "execution_count": 6,
   "id": "5cf03081-3218-42cf-a26c-15e1bd4896ef",
   "metadata": {},
   "outputs": [
    {
     "name": "stdout",
     "output_type": "stream",
     "text": [
      "✅ Data preprocessing complete.\n",
      "Saved cleaned file to: /Users/rishikakumari/Documents/DS/Causal-Impact-Member-Churn/data/processed/merged_panel_clean_data.csv\n"
     ]
    }
   ],
   "source": [
    "import pandas as pd\n",
    "import os\n",
    "\n",
    "# Get root directory (one level up from /src/)\n",
    "PROJECT_ROOT = os.path.abspath(os.path.join(os.path.dirname('DS'), '..'))\n",
    "\n",
    "# Define raw/processed paths\n",
    "RAW_DATA_DIR = os.path.join(PROJECT_ROOT, 'data', 'raw')\n",
    "PROCESSED_DATA_DIR = os.path.join(PROJECT_ROOT, 'data', 'processed')\n",
    "\n",
    "# Define filenames\n",
    "zusatz_file = os.path.join(RAW_DATA_DIR, \"Zusatzbeitrag_je Kasse je Quartal.xlsx\")\n",
    "markt_file = os.path.join(RAW_DATA_DIR, \"Marktanteile je Kasse.xlsx\")\n",
    "morbidity_file = os.path.join(RAW_DATA_DIR, \"Morbidity_Region.xlsx\")\n",
    "kunden_2023_file = os.path.join(RAW_DATA_DIR, \"Kundenmonitor_GKV_2023.xlsx\")\n",
    "kunden_2024_file = os.path.join(RAW_DATA_DIR, \"Kundenmonitor_GKV_2024.xlsx\")\n",
    "\n",
    "# Load datasets\n",
    "zusatz_df = pd.read_excel(zusatz_file)\n",
    "markt_df = pd.read_excel(markt_file, sheet_name=\"data\")\n",
    "morbidity_df = pd.read_excel(morbidity_file)\n",
    "kunden_2023 = pd.read_excel(kunden_2023_file)\n",
    "kunden_2024 = pd.read_excel(kunden_2024_file)\n",
    "\n",
    "# Fund name normalization\n",
    "def clean_name(name):\n",
    "    return name.strip().lower().replace(\"-\", \"\").replace(\"/\", \"\")\n",
    "\n",
    "zusatz_df[\"kasse_clean\"] = zusatz_df[\"Krankenkasse\"].apply(clean_name)\n",
    "markt_df[\"kasse_clean\"] = markt_df[\"Krankenkasse\"].apply(clean_name)\n",
    "morbidity_df[\"kasse_clean\"] = morbidity_df[\"Krankenkasse\"].str.strip().str.lower()\n",
    "\n",
    "# Standardize column names\n",
    "zusatz_df.columns = zusatz_df.columns.str.strip().str.lower()\n",
    "markt_df.columns = markt_df.columns.str.strip().str.lower()\n",
    "morbidity_df.columns = morbidity_df.columns.str.strip().str.lower()\n",
    "kunden_2023.columns = kunden_2023.columns.str.strip()\n",
    "kunden_2024.columns = kunden_2024.columns.str.strip()\n",
    "\n",
    "# Merge zusatz and markt data\n",
    "merged_df = pd.merge(zusatz_df, markt_df, on=[\"jahr\", \"kasse_clean\"], how=\"left\")\n",
    "\n",
    "# Sort by fund, year, and quarter\n",
    "merged_df = merged_df.sort_values(by=[\"kasse_clean\", \"jahr\", \"quartal\"])\n",
    "\n",
    "# Lagged insured & churn rate\n",
    "merged_df[\"insured_lag\"] = merged_df.groupby(\"kasse_clean\")[\"versicherte\"].shift(1)\n",
    "merged_df[\"churn_rate\"] = (merged_df[\"insured_lag\"] - merged_df[\"versicherte\"]) / merged_df[\"insured_lag\"]\n",
    "\n",
    "# Lagged contribution and treatment flag\n",
    "merged_df[\"zusatzbeitrag_lag\"] = merged_df.groupby(\"kasse_clean\")[\"zusatzbeitrag\"].shift(1)\n",
    "merged_df[\"treatment_flag\"] = merged_df[\"zusatzbeitrag\"] > merged_df[\"zusatzbeitrag_lag\"]\n",
    "\n",
    "# Merge with morbidity data\n",
    "merged_df = pd.merge(merged_df, morbidity_df[[\"jahr\", \"kasse_clean\", \"risikofaktor\"]],\n",
    "                     on=[\"jahr\", \"kasse_clean\"], how=\"left\")\n",
    "merged_df.rename(columns={\"risikofaktor\": \"morbidity_index\"}, inplace=True)\n",
    "\n",
    "# Clean and combine Kundenmonitor data\n",
    "fund_col = 'Mitglied/Kunde einer Krankenkasse/Krankenversicherung'\n",
    "kunden_2023[\"kasse_clean\"] = kunden_2023[fund_col].str.lower().str.strip()\n",
    "kunden_2024[\"kasse_clean\"] = kunden_2024[fund_col].str.lower().str.strip()\n",
    "kunden_2023[\"jahr\"] = 2023\n",
    "kunden_2024[\"jahr\"] = 2024\n",
    "kunden_df = pd.concat([kunden_2023, kunden_2024], ignore_index=True)\n",
    "\n",
    "# Merge Kundenmonitor data\n",
    "merged_df = pd.merge(merged_df, kunden_df, on=[\"jahr\", \"kasse_clean\"], how=\"left\")\n",
    "\n",
    "# Sort again after merging\n",
    "merged_df = merged_df.sort_values(by=[\"kasse_clean\", \"jahr\", \"quartal\"])\n",
    "\n",
    "# Recalculate churn-related variables after merge\n",
    "merged_df[\"insured_lag\"] = merged_df.groupby(\"kasse_clean\")[\"versicherte\"].shift(1)\n",
    "merged_df[\"churn_rate\"] = (merged_df[\"insured_lag\"] - merged_df[\"versicherte\"]) / merged_df[\"insured_lag\"]\n",
    "merged_df[\"zusatzbeitrag_lag\"] = merged_df.groupby(\"kasse_clean\")[\"zusatzbeitrag\"].shift(1)\n",
    "merged_df[\"treatment_flag\"] = merged_df[\"zusatzbeitrag\"] > merged_df[\"zusatzbeitrag_lag\"]\n",
    "\n",
    "# Add average zusatzbeitrag by period\n",
    "period_avg = merged_df.groupby([\"jahr\", \"quartal\"])[\"zusatzbeitrag\"].mean().reset_index()\n",
    "merged_df = pd.merge(merged_df, period_avg, on=[\"jahr\", \"quartal\"], how=\"left\", suffixes=(\"\", \"_avg\"))\n",
    "\n",
    "# Drop rows with missing values in key columns\n",
    "merged_df = merged_df.dropna(subset=[\"insured_lag\", \"zusatzbeitrag_lag\", \"churn_rate\"])\n",
    "\n",
    "# Save processed file\n",
    "final_output_path = os.path.join(PROCESSED_DATA_DIR, \"merged_panel_clean_data.csv\")\n",
    "merged_df.to_csv(final_output_path, index=False)\n",
    "\n",
    "print(f\"✅ Data preprocessing complete.\\nSaved cleaned file to: {final_output_path}\")"
   ]
  },
  {
   "cell_type": "code",
   "execution_count": null,
   "id": "c6f3ec96",
   "metadata": {},
   "outputs": [],
   "source": []
  },
  {
   "cell_type": "code",
   "execution_count": null,
   "id": "ae1f1971-867b-490c-8501-306dadfae2a4",
   "metadata": {},
   "outputs": [],
   "source": []
  }
 ],
 "metadata": {
  "kernelspec": {
   "display_name": "Python 3",
   "language": "python",
   "name": "python3"
  },
  "language_info": {
   "codemirror_mode": {
    "name": "ipython",
    "version": 3
   },
   "file_extension": ".py",
   "mimetype": "text/x-python",
   "name": "python",
   "nbconvert_exporter": "python",
   "pygments_lexer": "ipython3",
   "version": "3.11.9"
  }
 },
 "nbformat": 4,
 "nbformat_minor": 5
}
