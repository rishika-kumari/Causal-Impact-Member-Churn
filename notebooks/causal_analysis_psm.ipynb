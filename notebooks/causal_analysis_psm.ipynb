{
 "cells": [
  {
   "cell_type": "code",
   "execution_count": 3,
   "id": "c353f110-2dbc-4cbd-813b-c44575abdcc7",
   "metadata": {},
   "outputs": [
    {
     "name": "stdout",
     "output_type": "stream",
     "text": [
      "ATE (Average Treatment Effect): -0.001538\n"
     ]
    }
   ],
   "source": [
    "import pandas as pd\n",
    "from sklearn.linear_model import LogisticRegression\n",
    "from sklearn.neighbors import NearestNeighbors\n",
    "\n",
    "def run_causal_analysis(data_path):\n",
    "    # Load dataset\n",
    "    df = pd.read_csv(data_path, low_memory=False)\n",
    "    df = df.drop(columns=[col for col in df.columns if \"Unnamed\" in col])\n",
    "    df[\"morbidity_index\"] = pd.to_numeric(df[\"morbidity_index\"], errors=\"coerce\")\n",
    "    df = df.dropna(subset=[\"churn_rate\", \"treatment_flag\", \"zusatzbeitrag\", \"morbidity_index\", \"insured_lag\", \"marktanteil versicherte\"])\n",
    "\n",
    "    # Propensity Score Estimation\n",
    "    X_psm = df[[\"zusatzbeitrag\", \"morbidity_index\", \"insured_lag\", \"marktanteil versicherte\"]]\n",
    "    y_psm = df[\"treatment_flag\"].astype(int)\n",
    "\n",
    "    logit = LogisticRegression(max_iter=1000)\n",
    "    logit.fit(X_psm, y_psm)\n",
    "    df[\"propensity_score\"] = logit.predict_proba(X_psm)[:, 1]\n",
    "    df[\"treatment\"] = y_psm\n",
    "\n",
    "    # Matching\n",
    "    treated = df[df[\"treatment\"] == 1]\n",
    "    control = df[df[\"treatment\"] == 0]\n",
    "    nn = NearestNeighbors(n_neighbors=1)\n",
    "    nn.fit(control[[\"propensity_score\"]])\n",
    "    _, indices = nn.kneighbors(treated[[\"propensity_score\"]])\n",
    "    matched_control = control.iloc[indices.flatten()].reset_index(drop=True)\n",
    "    matched_treated = treated.reset_index(drop=True)\n",
    "\n",
    "    # Average Treatment Effect (ATE)\n",
    "    ate = matched_treated[\"churn_rate\"].mean() - matched_control[\"churn_rate\"].mean()\n",
    "    print(\"ATE (Average Treatment Effect):\", round(ate, 6))\n",
    "    return ate\n",
    "\n",
    "\n",
    "if __name__ == \"__main__\":\n",
    "    data_path = \"../data/processed/merged_panel_clean_data.csv\"\n",
    "    run_causal_analysis(data_path)\n"
   ]
  },
  {
   "cell_type": "code",
   "execution_count": null,
   "id": "1a8b0460-3593-4daa-8ee1-7d9931c58354",
   "metadata": {},
   "outputs": [],
   "source": []
  }
 ],
 "metadata": {
  "kernelspec": {
   "display_name": "Python 3",
   "language": "python",
   "name": "python3"
  },
  "language_info": {
   "codemirror_mode": {
    "name": "ipython",
    "version": 3
   },
   "file_extension": ".py",
   "mimetype": "text/x-python",
   "name": "python",
   "nbconvert_exporter": "python",
   "pygments_lexer": "ipython3",
   "version": "3.11.9"
  }
 },
 "nbformat": 4,
 "nbformat_minor": 5
}
