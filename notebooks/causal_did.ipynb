{
 "cells": [
  {
   "cell_type": "code",
   "execution_count": 1,
   "id": "70836891-b4cb-474d-9e97-4d4760440da8",
   "metadata": {},
   "outputs": [
    {
     "name": "stderr",
     "output_type": "stream",
     "text": [
      "'pip' is not recognized as an internal or external command,\n",
      "operable program or batch file.\n"
     ]
    }
   ],
   "source": [
    "!pip install linearmodels"
   ]
  },
  {
   "cell_type": "code",
   "execution_count": 2,
   "id": "f1c45468-403e-47d8-ad7f-d073fd4ab37c",
   "metadata": {},
   "outputs": [
    {
     "name": "stdout",
     "output_type": "stream",
     "text": [
      "Note: you may need to restart the kernel to use updated packages.\n"
     ]
    },
    {
     "name": "stderr",
     "output_type": "stream",
     "text": [
      "ERROR: Ignored the following yanked versions: 1.11.0, 1.14.0rc1\n",
      "ERROR: Ignored the following versions that require a different python version: 1.10.0 Requires-Python <3.12,>=3.8; 1.10.0rc1 Requires-Python <3.12,>=3.8; 1.10.0rc2 Requires-Python <3.12,>=3.8; 1.10.1 Requires-Python <3.12,>=3.8; 1.6.2 Requires-Python >=3.7,<3.10; 1.6.3 Requires-Python >=3.7,<3.10; 1.7.0 Requires-Python >=3.7,<3.10; 1.7.1 Requires-Python >=3.7,<3.10; 1.7.2 Requires-Python >=3.7,<3.11; 1.7.3 Requires-Python >=3.7,<3.11; 1.8.0 Requires-Python >=3.8,<3.11; 1.8.0rc1 Requires-Python >=3.8,<3.11; 1.8.0rc2 Requires-Python >=3.8,<3.11; 1.8.0rc3 Requires-Python >=3.8,<3.11; 1.8.0rc4 Requires-Python >=3.8,<3.11; 1.8.1 Requires-Python >=3.8,<3.11; 1.9.0 Requires-Python >=3.8,<3.12; 1.9.0rc1 Requires-Python >=3.8,<3.12; 1.9.0rc2 Requires-Python >=3.8,<3.12; 1.9.0rc3 Requires-Python >=3.8,<3.12; 1.9.1 Requires-Python >=3.8,<3.12\n",
      "ERROR: Could not find a version that satisfies the requirement scipy==1.10.1 (from versions: 0.8.0, 0.9.0, 0.10.0, 0.10.1, 0.11.0, 0.12.0, 0.12.1, 0.13.0, 0.13.1, 0.13.2, 0.13.3, 0.14.0, 0.14.1, 0.15.0, 0.15.1, 0.16.0, 0.16.1, 0.17.0, 0.17.1, 0.18.0, 0.18.1, 0.19.0, 0.19.1, 1.0.0, 1.0.1, 1.1.0, 1.2.0, 1.2.1, 1.2.2, 1.2.3, 1.3.0, 1.3.1, 1.3.2, 1.3.3, 1.4.0, 1.4.1, 1.5.0, 1.5.1, 1.5.2, 1.5.3, 1.5.4, 1.6.0, 1.6.1, 1.9.2, 1.9.3, 1.11.0rc1, 1.11.0rc2, 1.11.1, 1.11.2, 1.11.3, 1.11.4, 1.12.0rc1, 1.12.0rc2, 1.12.0, 1.13.0rc1, 1.13.0, 1.13.1, 1.14.0rc2, 1.14.0, 1.14.1, 1.15.0rc1, 1.15.0rc2, 1.15.0, 1.15.1, 1.15.2, 1.15.3, 1.16.0rc1, 1.16.0rc2, 1.16.0)\n",
      "ERROR: No matching distribution found for scipy==1.10.1\n"
     ]
    }
   ],
   "source": [
    "pip install scipy==1.10.1 statsmodels==0.13.5\n"
   ]
  },
  {
   "cell_type": "code",
   "execution_count": 3,
   "id": "5210efb0-700e-4e6c-b996-74d95b1f6a25",
   "metadata": {},
   "outputs": [
    {
     "name": "stderr",
     "output_type": "stream",
     "text": [
      "C:\\Users\\Vanshika\\AppData\\Local\\Temp\\ipykernel_11524\\58881669.py:2: DtypeWarning: Columns (14) have mixed types. Specify dtype option on import or set low_memory=False.\n",
      "  df = pd.read_csv(\"../data/processed/merged_panel_clean_data.csv\")\n"
     ]
    },
    {
     "name": "stdout",
     "output_type": "stream",
     "text": [
      "                            OLS Regression Results                            \n",
      "==============================================================================\n",
      "Dep. Variable:             churn_rate   R-squared:                       0.046\n",
      "Model:                            OLS   Adj. R-squared:                  0.046\n",
      "Method:                 Least Squares   F-statistic:                     244.1\n",
      "Date:                Tue, 01 Jul 2025   Prob (F-statistic):          1.04e-154\n",
      "Time:                        18:11:35   Log-Likelihood:                 53594.\n",
      "No. Observations:               15202   AIC:                        -1.072e+05\n",
      "Df Residuals:                   15198   BIC:                        -1.072e+05\n",
      "Df Model:                           3                                         \n",
      "Covariance Type:            nonrobust                                         \n",
      "=======================================================================================\n",
      "                          coef    std err          t      P>|t|      [0.025      0.975]\n",
      "---------------------------------------------------------------------------------------\n",
      "Intercept              -0.0035      0.000    -21.411      0.000      -0.004      -0.003\n",
      "treatment_flag          0.0005      0.000      2.590      0.010       0.000       0.001\n",
      "post                   -0.0035      0.000    -21.411      0.000      -0.004      -0.003\n",
      "treatment_flag:post     0.0005      0.000      2.590      0.010       0.000       0.001\n",
      "morbidity_index         0.0022      0.000      5.826      0.000       0.001       0.003\n",
      "zusatzbeitrag_lag       0.0028      0.000     21.304      0.000       0.003       0.003\n",
      "==============================================================================\n",
      "Omnibus:                    34952.248   Durbin-Watson:                   1.282\n",
      "Prob(Omnibus):                  0.000   Jarque-Bera (JB):        697588010.564\n",
      "Skew:                         -21.905   Prob(JB):                         0.00\n",
      "Kurtosis:                    1051.518   Cond. No.                     1.35e+17\n",
      "==============================================================================\n",
      "\n",
      "Notes:\n",
      "[1] Standard Errors assume that the covariance matrix of the errors is correctly specified.\n",
      "[2] The smallest eigenvalue is 4.53e-30. This might indicate that there are\n",
      "strong multicollinearity problems or that the design matrix is singular.\n"
     ]
    }
   ],
   "source": [
    "import pandas as pd\n",
    "df = pd.read_csv(\"../data/processed/merged_panel_clean_data.csv\")\n",
    "# import pandas as pd\n",
    "\n",
    "# # Load cleaned panel\n",
    "# df = pd.read_csv(\"merged_panel_clean_data.csv\")\n",
    "\n",
    "# Create a combined time identifier\n",
    "df[\"zeit\"] = df[\"jahr\"].astype(str) + \"Q\" + df[\"quartal\"].astype(str)\n",
    "df[\"zeit\"] = df[\"zeit\"].astype(\"category\")\n",
    "\n",
    "# Optional: define post-treatment indicator (cumulative)\n",
    "df[\"post\"] = df.groupby(\"kasse_clean\")[\"treatment_flag\"].transform(lambda x: x.cumsum() > 0)\n",
    "\n",
    "# print(df.columns.tolist())\n",
    "# import statsmodels.formula.api as smf\n",
    "\n",
    "df[\"treatment_flag\"] = df[\"treatment_flag\"].astype(int)\n",
    "df[\"post\"] = df[\"post\"].astype(int)\n",
    "df[\"churn_rate\"] = pd.to_numeric(df[\"churn_rate\"], errors=\"coerce\")\n",
    "df[\"morbidity_index\"] = pd.to_numeric(df[\"morbidity_index\"], errors=\"coerce\")\n",
    "df[\"zusatzbeitrag_lag\"] = pd.to_numeric(df[\"zusatzbeitrag_lag\"], errors=\"coerce\")\n",
    "\n",
    "df_model = df.dropna(subset=[\"churn_rate\", \"treatment_flag\", \"post\", \"morbidity_index\", \"zusatzbeitrag_lag\"])\n",
    "\n",
    "# # Fit OLS model with interaction\n",
    "# did_model = smf.ols(\n",
    "#     formula=\"churn_rate ~ treatment_flag * post + morbidity_index + zusatzbeitrag_lag\",\n",
    "#     data=df\n",
    "# ).fit()\n",
    "\n",
    "# # Show results\n",
    "# print(did_model.summary())\n",
    "\n",
    "import statsmodels.formula.api as smf\n",
    "\n",
    "did_model = smf.ols(\n",
    "    formula=\"churn_rate ~ treatment_flag * post + morbidity_index + zusatzbeitrag_lag\",\n",
    "    data=df_model\n",
    ").fit()\n",
    "\n",
    "print(did_model.summary())\n"
   ]
  },
  {
   "cell_type": "code",
   "execution_count": 5,
   "id": "13715c7b-2908-427a-ae40-0047bf40ca6f",
   "metadata": {},
   "outputs": [
    {
     "name": "stderr",
     "output_type": "stream",
     "text": [
      "C:\\Users\\Vanshika\\AppData\\Local\\Temp\\ipykernel_11524\\2762360817.py:8: DtypeWarning: Columns (14) have mixed types. Specify dtype option on import or set low_memory=False.\n",
      "  df = pd.read_csv(\"../data/processed/merged_panel_clean_data.csv\")\n"
     ]
    },
    {
     "name": "stdout",
     "output_type": "stream",
     "text": [
      "                          PanelOLS Estimation Summary                           \n",
      "================================================================================\n",
      "Dep. Variable:             churn_rate   R-squared:                        0.0126\n",
      "Estimator:                   PanelOLS   R-squared (Between):             -2.4659\n",
      "No. Observations:               15202   R-squared (Within):               0.0180\n",
      "Date:                Tue, Jul 01 2025   R-squared (Overall):             -1.0699\n",
      "Time:                        18:12:01   Log-likelihood                 5.462e+04\n",
      "Cov. Estimator:            Unadjusted                                           \n",
      "                                        F-statistic:                      64.009\n",
      "Entities:                          93   P-value                           0.0000\n",
      "Avg Obs:                       163.46   Distribution:                 F(3,15070)\n",
      "Min Obs:                       4.0000                                           \n",
      "Max Obs:                       561.00   F-statistic (robust):             64.009\n",
      "                                        P-value                           0.0000\n",
      "Time periods:                      37   Distribution:                 F(3,15070)\n",
      "Avg Obs:                       410.86                                           \n",
      "Min Obs:                       74.000                                           \n",
      "Max Obs:                       1617.0                                           \n",
      "                                                                                \n",
      "                                 Parameter Estimates                                 \n",
      "=====================================================================================\n",
      "                   Parameter  Std. Err.     T-stat    P-value    Lower CI    Upper CI\n",
      "-------------------------------------------------------------------------------------\n",
      "treatment_flag       -0.0013     0.0004    -3.1003     0.0019     -0.0022     -0.0005\n",
      "morbidity_index      -0.0119     0.0015    -7.9025     0.0000     -0.0148     -0.0089\n",
      "zusatzbeitrag_lag     0.0022     0.0002     10.633     0.0000      0.0018      0.0027\n",
      "=====================================================================================\n",
      "\n",
      "F-test for Poolability: 16.944\n",
      "P-value: 0.0000\n",
      "Distribution: F(128,15070)\n",
      "\n",
      "Included effects: Entity, Time\n"
     ]
    }
   ],
   "source": [
    "# Install required packages if you haven't yet\n",
    "# !pip install linearmodels statsmodels\n",
    "\n",
    "import pandas as pd\n",
    "from linearmodels.panel import PanelOLS\n",
    "\n",
    "# Load cleaned panel data\n",
    "df = pd.read_csv(\"../data/processed/merged_panel_clean_data.csv\")\n",
    "\n",
    "# Create combined time identifier (e.g., \"2023Q1\")\n",
    "df[\"zeit\"] = df[\"jahr\"].astype(str) + \"Q\" + df[\"quartal\"].astype(str)\n",
    "\n",
    "# Convert \"zeit\" to a pandas Period and then to Timestamp for proper panel indexing\n",
    "df[\"zeit_dt\"] = pd.PeriodIndex(df[\"zeit\"].astype(str), freq=\"Q\").to_timestamp()\n",
    "\n",
    "# Convert fund ID to string (entity id)\n",
    "df[\"kasse_clean\"] = df[\"kasse_clean\"].astype(str)\n",
    "\n",
    "# Define post-treatment indicator (cumulative sum > 0 per fund)\n",
    "df[\"post\"] = df.groupby(\"kasse_clean\")[\"treatment_flag\"].transform(lambda x: x.cumsum() > 0).astype(int)\n",
    "\n",
    "# Convert treatment_flag to int if not already\n",
    "df[\"treatment_flag\"] = df[\"treatment_flag\"].astype(int)\n",
    "\n",
    "# Ensure numeric columns are properly typed (coerce errors to NaN)\n",
    "df[\"churn_rate\"] = pd.to_numeric(df[\"churn_rate\"], errors=\"coerce\")\n",
    "df[\"morbidity_index\"] = pd.to_numeric(df[\"morbidity_index\"], errors=\"coerce\")\n",
    "df[\"zusatzbeitrag_lag\"] = pd.to_numeric(df[\"zusatzbeitrag_lag\"], errors=\"coerce\")\n",
    "\n",
    "# Drop rows with missing values in relevant columns\n",
    "df_model = df.dropna(subset=[\"churn_rate\", \"treatment_flag\", \"post\", \"morbidity_index\", \"zusatzbeitrag_lag\"])\n",
    "\n",
    "# Set multi-index for panel data (entity: kasse_clean, time: zeit_dt)\n",
    "df_model = df_model.set_index([\"kasse_clean\", \"zeit_dt\"])\n",
    "\n",
    "# Specify the model formula:\n",
    "# We model churn_rate as a function of treatment_flag, morbidity_index, zusatzbeitrag_lag\n",
    "# + fixed effects for entity and time\n",
    "model = PanelOLS.from_formula(\n",
    "    formula=\"churn_rate ~ treatment_flag + morbidity_index + zusatzbeitrag_lag + EntityEffects + TimeEffects\",\n",
    "    data=df_model\n",
    ")\n",
    "\n",
    "# Fit the model\n",
    "fe_results = model.fit()\n",
    "\n",
    "# Print the summary of fixed effects DiD model\n",
    "print(fe_results.summary)"
   ]
  },
  {
   "cell_type": "code",
   "execution_count": null,
   "id": "75a4a166-a236-422a-a7d8-b6226d7b80e0",
   "metadata": {},
   "outputs": [],
   "source": []
  }
 ],
 "metadata": {
  "kernelspec": {
   "display_name": "base",
   "language": "python",
   "name": "python3"
  },
  "language_info": {
   "codemirror_mode": {
    "name": "ipython",
    "version": 3
   },
   "file_extension": ".py",
   "mimetype": "text/x-python",
   "name": "python",
   "nbconvert_exporter": "python",
   "pygments_lexer": "ipython3",
   "version": "3.12.7"
  }
 },
 "nbformat": 4,
 "nbformat_minor": 5
}
